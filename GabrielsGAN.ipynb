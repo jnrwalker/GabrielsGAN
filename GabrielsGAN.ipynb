{
 "cells": [
  {
   "cell_type": "code",
   "execution_count": 218,
   "id": "7ea80ab3",
   "metadata": {},
   "outputs": [],
   "source": [
    "#Load dependencies\n",
    "import matplotlib.pyplot as plt\n",
    "import numpy as np\n",
    "import torch\n",
    "from torch import nn"
   ]
  },
  {
   "cell_type": "code",
   "execution_count": 219,
   "id": "caa571aa",
   "metadata": {},
   "outputs": [
    {
     "data": {
      "text/plain": [
       "<torch._C.Generator at 0x1323ae370>"
      ]
     },
     "execution_count": 219,
     "metadata": {},
     "output_type": "execute_result"
    }
   ],
   "source": [
    "torch.manual_seed(42) #random number seed using 42 because it's the answer to life"
   ]
  },
  {
   "cell_type": "code",
   "execution_count": 220,
   "id": "b33b050b",
   "metadata": {},
   "outputs": [],
   "source": [
    "# Generate training dataset\n",
    "# training data consists of 1024 pairs (x1,x2) which correspond to coordinates of the Torricelli's function\n",
    "# we use a multiple of 32 since we will set batch size to 32.\n",
    "# between 0 and 5\n",
    "\n",
    "train_data_length = 1024 #set length\n",
    "train_data = torch.zeros((train_data_length, 2)) #create two columns of 1024\n",
    "train_data[:, 0] = 5 * torch.rand(train_data_length) #load 1024 values of x1 between 0 and 5\n",
    "train_data[:, 1] = 1/(train_data[:, 0]) #calculate 1024 values of x2 based on x1\n",
    "train_labels = torch.zeros(train_data_length) #create indexes for data instances\n",
    "\n",
    "#Create variable with training data and ordered labels\n",
    "train_set = [(train_data[i], train_labels[i]) for i in range(train_data_length)]"
   ]
  },
  {
   "cell_type": "code",
   "execution_count": 221,
   "id": "45e52a9e",
   "metadata": {},
   "outputs": [
    {
     "data": {
      "image/png": "[encoded data removed]",
      "text/plain": [
       "<Figure size 432x288 with 1 Axes>"
      ]
     },
     "metadata": {
      "needs_background": "light"
     },
     "output_type": "display_data"
    }
   ],
   "source": [
    "#Visualize training data\n",
    "plt.plot(train_data[:, 0], train_data[:, 1], \".\")\n",
    "plt.xlabel('x1')\n",
    "plt.ylabel('x2')\n",
    "plt.title('Training Data')\n",
    "plt.show()"
   ]
  },
  {
   "cell_type": "code",
   "execution_count": 222,
   "id": "2f03eaf6",
   "metadata": {},
   "outputs": [],
   "source": [
    "# segment all the data into 32 batches\n",
    "batch_size = 32\n",
    "train_loader = torch.utils.data.DataLoader(train_set, batch_size=batch_size, shuffle=True)"
   ]
  },
  {
   "cell_type": "code",
   "execution_count": 223,
   "id": "bc70118b",
   "metadata": {},
   "outputs": [],
   "source": [
    "### Setting up the discriminator agent ###\n",
    "\n",
    "# 4 feedforward linear layers, with leaky ReLU and dropouts after the first three and sigmoid threshold after the final layer\n",
    "\n",
    "class Discriminator(nn.Module):\n",
    "    def __init__(self):\n",
    "        super().__init__()\n",
    "        self.model = nn.Sequential( ### sequential MLP network \n",
    "            nn.Linear(2, 256), # 2 dimensional data (x1, x2), and first layer contains 256 neurons\n",
    "            nn.LeakyReLU(),\n",
    "            nn.Dropout(0.3),\n",
    "            nn.Linear(256, 128), # second layer contains 128 layers\n",
    "            nn.LeakyReLU(), ###nn.leakyReLu\n",
    "            nn.Dropout(0.3), #use dropout function after each layer to prevent overfitting\n",
    "            nn.Linear(128, 64), # third layer contains 64 layers\n",
    "            nn.LeakyReLU(),\n",
    "            nn.Dropout(0.3),\n",
    "            nn.Linear(64, 1), #single neuron output\n",
    "            nn.Sigmoid(),) #sigmoidal probability threshold\n",
    "\n",
    "    def forward(self, x):\n",
    "        output = self.model(x)\n",
    "        return output"
   ]
  },
  {
   "cell_type": "code",
   "execution_count": 224,
   "id": "279dc343",
   "metadata": {},
   "outputs": [],
   "source": [
    "# Activate discriminator\n",
    "\n",
    "discriminator = Discriminator()"
   ]
  },
  {
   "cell_type": "code",
   "execution_count": 225,
   "id": "5858a3e5",
   "metadata": {},
   "outputs": [],
   "source": [
    "### Setting up the generator network ###\n",
    "\n",
    "# Simple multilayer perceptron with three feedforward layers\n",
    "\n",
    "class Generator(nn.Module):\n",
    "    def __init__(self):\n",
    "        super().__init__()\n",
    "        self.model = nn.Sequential(\n",
    "            nn.Linear(2, 16), #2 variables and 16 neurons in the first layer\n",
    "            nn.ReLU(),\n",
    "            nn.Linear(16, 32), #32 neurons in the second layer\n",
    "            nn.ReLU(),\n",
    "            nn.Linear(32, 2),) #2 neurons in the output layer\n",
    "\n",
    "    def forward(self, x):\n",
    "        output = self.model(x)\n",
    "        return output"
   ]
  },
  {
   "cell_type": "code",
   "execution_count": 226,
   "id": "ee34f1d0",
   "metadata": {},
   "outputs": [],
   "source": [
    "# Activate generator\n",
    "\n",
    "generator = Generator()"
   ]
  },
  {
   "cell_type": "code",
   "execution_count": 227,
   "id": "b36c1bbe",
   "metadata": {},
   "outputs": [],
   "source": [
    "# Training\n",
    "\n",
    "# Parameters\n",
    "\n",
    "learning_rate = 0.002\n",
    "n_epochs = 50\n",
    "loss_function = nn.BCELoss() # Mean Squared Error Loss function, can change to nn.BCELoss (binary cross entropy loss) \n",
    "# or L1Loss or CrossEntropyLoss"
   ]
  },
  {
   "cell_type": "code",
   "execution_count": 228,
   "id": "9c8ce50d",
   "metadata": {},
   "outputs": [],
   "source": [
    "# Create Optimizers\n",
    "\n",
    "optimizer_D = torch.optim.Adam(discriminator.parameters(), lr=learning_rate)\n",
    "optimizer_G = torch.optim.Adam(generator.parameters(), lr=learning_rate)"
   ]
  },
  {
   "cell_type": "code",
   "execution_count": 229,
   "id": "0582103c",
   "metadata": {},
   "outputs": [
    {
     "name": "stdout",
     "output_type": "stream",
     "text": [
      "Epoch: 0 Loss D.: 0.10074030607938766\n",
      "Epoch: 0 Loss G.: 4.416480541229248\n",
      "Epoch: 10 Loss D.: 0.6485685110092163\n",
      "Epoch: 10 Loss G.: 0.7448774576187134\n",
      "Epoch: 20 Loss D.: 0.6560580730438232\n",
      "Epoch: 20 Loss G.: 0.7643178105354309\n",
      "Epoch: 30 Loss D.: 0.5440322160720825\n",
      "Epoch: 30 Loss G.: 1.5029340982437134\n",
      "Epoch: 40 Loss D.: 0.6888387203216553\n",
      "Epoch: 40 Loss G.: 0.6952170133590698\n"
     ]
    }
   ],
   "source": [
    "# Implement training loop\n",
    "\n",
    "Dloss = [] # empty list to store loss values\n",
    "Gloss = []\n",
    "\n",
    "for epoch in range(n_epochs):\n",
    "    for n, (real_samples, _) in enumerate(train_loader):\n",
    "        # Data for training the discriminator\n",
    "        real_samples_labels = torch.ones((batch_size, 1))\n",
    "        latent_space_samples = torch.randn((batch_size, 2))\n",
    "        generated_samples = generator(latent_space_samples)\n",
    "        generated_samples_labels = torch.zeros((batch_size, 1))\n",
    "        all_samples = torch.cat((real_samples, generated_samples))\n",
    "        all_samples_labels = torch.cat((real_samples_labels, generated_samples_labels))\n",
    "        \n",
    "        # Training the discriminator\n",
    "        discriminator.zero_grad()\n",
    "        output_discriminator = discriminator(all_samples)\n",
    "        loss_discriminator = loss_function(output_discriminator, all_samples_labels)\n",
    "        loss_discriminator.backward()\n",
    "        optimizer_D.step()\n",
    "        \n",
    "        # Data for training the generator\n",
    "        latent_space_samples = torch.randn((batch_size, 2))\n",
    "        \n",
    "        # Training the generator\n",
    "        generator.zero_grad()\n",
    "        generated_samples = generator(latent_space_samples)\n",
    "        output_discriminator_gen = discriminator(generated_samples)\n",
    "        loss_generator = loss_function(output_discriminator_gen, real_samples_labels)\n",
    "        loss_generator.backward()\n",
    "        optimizer_G.step()\n",
    "        \n",
    "        # Show loss\n",
    "        if epoch % 10 == 0 and n == batch_size - 1:\n",
    "            print(f\"Epoch: {epoch} Loss D.: {loss_discriminator}\")\n",
    "            print(f\"Epoch: {epoch} Loss G.: {loss_generator}\")\n",
    "        \n",
    "        if epoch % 1 == 0 and n == batch_size - 1:    \n",
    "            Dloss.append(loss_discriminator.detach())\n",
    "            Gloss.append(loss_generator.detach())"
   ]
  },
  {
   "cell_type": "code",
   "execution_count": 230,
   "id": "1431b938",
   "metadata": {},
   "outputs": [
    {
     "data": {
      "image/png": "[encoded data removed]",
      "text/plain": [
       "<Figure size 1080x360 with 1 Axes>"
      ]
     },
     "metadata": {
      "needs_background": "light"
     },
     "output_type": "display_data"
    }
   ],
   "source": [
    "#plt.scatter(n_epochs, loss_discriminator.detach())\n",
    "lossfig = plt.figure(figsize=(15,5))\n",
    "plt.plot(Dloss)\n",
    "plt.plot(Gloss)\n",
    "plt.ylabel('Loss')\n",
    "plt.xlabel('Epoch')\n",
    "plt.xticks(range(0, n_epochs))\n",
    "plt.show()"
   ]
  },
  {
   "cell_type": "code",
   "execution_count": 231,
   "id": "07f9f048",
   "metadata": {},
   "outputs": [
    {
     "data": {
      "image/png": "[encoded data removed]",
      "text/plain": [
       "<Figure size 720x360 with 1 Axes>"
      ]
     },
     "metadata": {
      "needs_background": "light"
     },
     "output_type": "display_data"
    }
   ],
   "source": [
    "latent_space_samples = torch.randn(200, 2)\n",
    "generated_samples = generator(latent_space_samples)\n",
    "generated_samples = generated_samples.detach()\n",
    "fig = plt.figure(figsize=(10,5))\n",
    "plt.plot(train_data[:, 0], train_data[:, 1], \".\", label='Real')\n",
    "plt.plot(generated_samples[:, 0], generated_samples[:, 1], \".\", label='Synthetic')\n",
    "plt.legend()\n",
    "plt.show()"
   ]
  },
  {
   "cell_type": "code",
   "execution_count": 200,
   "id": "beae0830",
   "metadata": {},
   "outputs": [],
   "source": [
    "#### We can observe in this visual comparison between training data and generated data, that the GAN can map\n",
    "# the Torricelli function from the latent space, however we notice this problem of mode collapse. Observing close\n",
    "# zero, the generator struggles to generate samples on the ascending portion of the curve. The generator is focussing\n",
    "# too much on the other features of the dataset.\n",
    "\n",
    "# Play around with parameters (learing rate, optimizer choice, loss function choise, number of epochs and network\n",
    "# architectural paramters) to see if we can find a set of hyperparameters to best represent this function."
   ]
  }
 ],
 "metadata": {
  "kernelspec": {
   "display_name": "Python 3 (ipykernel)",
   "language": "python",
   "name": "python3"
  },
  "language_info": {
   "codemirror_mode": {
    "name": "ipython",
    "version": 3
   },
   "file_extension": ".py",
   "mimetype": "text/x-python",
   "name": "python",
   "nbconvert_exporter": "python",
   "pygments_lexer": "ipython3",
   "version": "3.7.4"
  }
 },
 "nbformat": 4,
 "nbformat_minor": 5
}
